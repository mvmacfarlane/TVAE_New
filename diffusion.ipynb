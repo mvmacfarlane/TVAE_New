{
 "cells": [
  {
   "cell_type": "code",
   "execution_count": 1,
   "metadata": {},
   "outputs": [
    {
     "name": "stderr",
     "output_type": "stream",
     "text": [
      "/home/mvmacfarlane/miniconda3/envs/CVAE_env/lib/python3.9/site-packages/tqdm/auto.py:22: TqdmWarning: IProgress not found. Please update jupyter and ipywidgets. See https://ipywidgets.readthedocs.io/en/stable/user_install.html\n",
      "  from .autonotebook import tqdm as notebook_tqdm\n"
     ]
    }
   ],
   "source": [
    "import torch\n",
    "from torch import nn\n",
    "import numpy as np\n",
    "import torch.nn.functional as F\n",
    "\n",
    "from torch.distributions.uniform import Uniform\n",
    "\n",
    "import matplotlib.pyplot as plt\n",
    "import seaborn as sns\n",
    "\n",
    "import pandas as pd\n",
    "\n",
    "from torch.utils.tensorboard import SummaryWriter\n",
    "\n",
    "import time\n",
    "\n",
    "from IPython.display import display, clear_output\n",
    "\n",
    "import math\n",
    "\n",
    "from diffusion import Diffusion"
   ]
  },
  {
   "cell_type": "code",
   "execution_count": 2,
   "metadata": {},
   "outputs": [],
   "source": [
    "def graph(data_1,data_2):\n",
    "\n",
    "\n",
    "    data_1 = pd.DataFrame(data_1.detach().numpy(),columns = ['x','y'])\n",
    "    data_2 = pd.DataFrame(data_2.detach().numpy(),columns = ['x','y'])\n",
    "\n",
    "\n",
    "    #Log latents sampling to tensorboard\n",
    "    fig, (ax1, ax2) = plt.subplots(1, 2, sharey=True)\n",
    "    sns.scatterplot(ax=ax1,data=data_1, x=\"x\", y=\"y\",s=20)\n",
    "\n",
    "    ax1.set_xlim(-15,15)\n",
    "    ax1.set_ylim(-15,15)\n",
    "\n",
    "\n",
    "    sns.scatterplot(ax=ax2,data=data_2, x=\"x\", y=\"y\",s=20)\n",
    "\n",
    "    ax2.set_xlim(-15,15)\n",
    "    ax2.set_ylim(-15,15)\n",
    "\n",
    "    ax2.axhline(y=5, color='r', linestyle='-')\n",
    "    ax2.axvline(x=5, color='r', linestyle='-')\n",
    "\n",
    "    plt.show(fig)\n",
    "\n",
    "    clear_output(wait = True)\n",
    "    plt.pause(0.5)\n",
    "    \n"
   ]
  },
  {
   "cell_type": "code",
   "execution_count": 3,
   "metadata": {},
   "outputs": [],
   "source": [
    "#target_dist = torch.normal(mean = 1, std = 1,size = (20,2))\n",
    "\n",
    "\n",
    "#add tensorboard\n",
    "\n",
    "def train(model,name):\n",
    "\n",
    "\n",
    "    writer = SummaryWriter(\"runs/\" + name)\n",
    "\n",
    "    batch_size = 512\n",
    "    epoch_num = 20\n",
    "    epoch_size = 93440\n",
    "\n",
    "    #time_distribution = Uniform(1, 300)\n",
    "\n",
    "    params = list(model.parameters())\n",
    "    optimizer = torch.optim.Adam(params, lr=1e-3)\n",
    "\n",
    "\n",
    "\n",
    "    for epoch_idx in range(epoch_num):\n",
    "\n",
    "        #Train\n",
    "\n",
    "        total_loss = 0\n",
    "\n",
    "        for j in range(100):\n",
    "\n",
    "            optimizer.zero_grad()\n",
    "\n",
    "            target_dist = torch.normal(mean = 5, std = 1,size = (batch_size,2))\n",
    "\n",
    "            loss = model.calculate_loss(x0 = target_dist)\n",
    "\n",
    "            \n",
    "\n",
    "            total_loss += loss.item()\n",
    "\n",
    "            loss.backward()\n",
    "\n",
    "            optimizer.step()\n",
    "\n",
    "        #Evaluate\n",
    "        gaussian = torch.normal(mean = 0, std = 1,size = (batch_size,2))\n",
    "        diffussed_distribution = model.generate_sample(batch_size,device = \"cpu\")\n",
    "\n",
    "        graph(gaussian,diffussed_distribution)\n",
    "\n",
    "\n",
    "        print(\"Diffusion Loss :{}\".format(total_loss))\n",
    "\n",
    "\n",
    "        writer.add_scalar(\"Diffusion Loss\", total_loss, epoch_idx)\n",
    "        writer.add_scalar(\"Diffused Mean\", torch.mean(diffussed_distribution), epoch_idx)\n",
    "        writer.add_scalar(\"Diffused STD\", torch.std(diffussed_distribution), epoch_idx)\n",
    "\n",
    "        writer.flush()\n",
    "\n"
   ]
  },
  {
   "cell_type": "code",
   "execution_count": 4,
   "metadata": {},
   "outputs": [
    {
     "name": "stdout",
     "output_type": "stream",
     "text": [
      "Diffusion Loss :66.89485150575638\n"
     ]
    }
   ],
   "source": [
    "test = Diffusion(steps = 600)\n",
    "\n",
    "train(test,\"diffusion baseline steps 600 New\")"
   ]
  }
 ],
 "metadata": {
  "kernelspec": {
   "display_name": "CVAE_env",
   "language": "python",
   "name": "python3"
  },
  "language_info": {
   "codemirror_mode": {
    "name": "ipython",
    "version": 3
   },
   "file_extension": ".py",
   "mimetype": "text/x-python",
   "name": "python",
   "nbconvert_exporter": "python",
   "pygments_lexer": "ipython3",
   "version": "3.9.13"
  },
  "orig_nbformat": 4,
  "vscode": {
   "interpreter": {
    "hash": "27e02dc85369733a903742787515facd417f96dea0ebccbb0c1c94899258b880"
   }
  }
 },
 "nbformat": 4,
 "nbformat_minor": 2
}
