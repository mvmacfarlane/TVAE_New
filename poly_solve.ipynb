{
 "cells": [
  {
   "cell_type": "code",
   "execution_count": 1,
   "metadata": {},
   "outputs": [
    {
     "name": "stderr",
     "output_type": "stream",
     "text": [
      "/home/mvmacfarlane/miniconda3/envs/CVAE_env/lib/python3.9/site-packages/tqdm/auto.py:22: TqdmWarning: IProgress not found. Please update jupyter and ipywidgets. See https://ipywidgets.readthedocs.io/en/stable/user_install.html\n",
      "  from .autonotebook import tqdm as notebook_tqdm\n"
     ]
    }
   ],
   "source": [
    "import torch\n",
    "from scipy.optimize import minimize, rosen, rosen_der"
   ]
  },
  {
   "cell_type": "code",
   "execution_count": 2,
   "metadata": {},
   "outputs": [
    {
     "name": "stdout",
     "output_type": "stream",
     "text": [
      "[1. 1.]\n"
     ]
    }
   ],
   "source": [
    "\n",
    "fun = lambda x: -2*(x[0])**2 - (x[1])\n",
    "\n",
    "\n",
    "bnds = ((-1, 1), (-1, 1))\n",
    "\n",
    "res = minimize(fun, (2, 0), method='SLSQP', bounds=bnds)\n",
    "\n",
    "print(res.x)"
   ]
  },
  {
   "cell_type": "code",
   "execution_count": 3,
   "metadata": {},
   "outputs": [],
   "source": [
    "#Function that takes in a vector describing the weighting of the 2nd order polynomial terms and returning to optimal value\n",
    "#Context is a pytorch tensor\n",
    "\n",
    "def optimal_solution(context):\n",
    "\n",
    "    num_context = context.shape[0]\n",
    "    solutions = torch.zeros(size = (context.shape[0],2))\n",
    "\n",
    "    for i in range(num_context):\n",
    "\n",
    "        fun = lambda x: -(context[i,0].item()*(x[0]) + context[i,1].item()*(x[1]) + context[i,2].item()*((x[0])**2) + context[i,3].item()*((x[1])**2))\n",
    "\n",
    "        bnds = ((-1, 1),(-1, 1))\n",
    "\n",
    "        res = minimize(fun, (0, 0), method='nelder-mead', bounds=bnds)\n",
    "\n",
    "        solutions[i,:] = torch.Tensor(res.x)\n",
    "\n",
    "    return solutions\n",
    "\n",
    "def optimal_solution(context):\n",
    "\n",
    "    print(\"Finding Optimal Solutions\")\n",
    "\n",
    "    num_context = context.shape[0]\n",
    "    solutions = torch.zeros(size = (context.shape[0],2))\n",
    "\n",
    "    for i in range(num_context):\n",
    "\n",
    "        fun = lambda x: -(context[i,0].item()*(x[0]) + context[i,1].item()*(x[1]) + context[i,2].item()*(x[0])**2 + context[i,3].item()*(x[1])**2)\n",
    "\n",
    "        bnds = ((-1, 1),(-1, 1))\n",
    "\n",
    "\n",
    "        res = minimize(fun, (0, 0), method='nelder-mead', bounds=bnds)\n",
    "\n",
    "\n",
    "        solutions[i,:] = torch.Tensor(res.x)\n",
    "\n",
    "    return solutions"
   ]
  },
  {
   "cell_type": "code",
   "execution_count": 4,
   "metadata": {},
   "outputs": [
    {
     "name": "stdout",
     "output_type": "stream",
     "text": [
      "Finding Optimal Solutions\n"
     ]
    },
    {
     "data": {
      "text/plain": [
       "tensor([[1., 1.]])"
      ]
     },
     "execution_count": 4,
     "metadata": {},
     "output_type": "execute_result"
    }
   ],
   "source": [
    "context = torch.Tensor([1,0,0,2]).unsqueeze(dim=0)\n",
    "\n",
    "\n",
    "\n",
    "optimal_solution(context)"
   ]
  }
 ],
 "metadata": {
  "kernelspec": {
   "display_name": "CVAE_env",
   "language": "python",
   "name": "python3"
  },
  "language_info": {
   "codemirror_mode": {
    "name": "ipython",
    "version": 3
   },
   "file_extension": ".py",
   "mimetype": "text/x-python",
   "name": "python",
   "nbconvert_exporter": "python",
   "pygments_lexer": "ipython3",
   "version": "3.9.13"
  },
  "orig_nbformat": 4,
  "vscode": {
   "interpreter": {
    "hash": "27e02dc85369733a903742787515facd417f96dea0ebccbb0c1c94899258b880"
   }
  }
 },
 "nbformat": 4,
 "nbformat_minor": 2
}
