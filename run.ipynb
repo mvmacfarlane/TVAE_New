{
 "cells": [
  {
   "cell_type": "code",
   "execution_count": 1,
   "metadata": {},
   "outputs": [
    {
     "name": "stderr",
     "output_type": "stream",
     "text": [
      "/home/mvmacfarlane/miniconda3/envs/CVAE_env/lib/python3.9/site-packages/tqdm/auto.py:22: TqdmWarning: IProgress not found. Please update jupyter and ipywidgets. See https://ipywidgets.readthedocs.io/en/stable/user_install.html\n",
      "  from .autonotebook import tqdm as notebook_tqdm\n"
     ]
    }
   ],
   "source": [
    "import os\n",
    "from trainy_context import train\n",
    "import toy\n",
    "import numpy as np\n",
    "import datetime\n",
    "from model import VAE_Solver,RL_Solver\n",
    "from toy import ContextProblem"
   ]
  },
  {
   "cell_type": "code",
   "execution_count": 2,
   "metadata": {},
   "outputs": [],
   "source": [
    "class Namespace:\n",
    "    def __init__(self, **kwargs):\n",
    "        self.__dict__.update(kwargs)\n"
   ]
  },
  {
   "cell_type": "code",
   "execution_count": 3,
   "metadata": {},
   "outputs": [],
   "source": [
    "#Create config\n",
    "\n",
    "config = Namespace(\n",
    "\n",
    "    #Running Settings\n",
    "    output_path = \"\",\n",
    "    device = \"cuda\",\n",
    "    model_path = None,\n",
    "\n",
    "    #Training\n",
    "    batch_size = 512,\n",
    "    epoch_size = 512*8,  #102400\n",
    "    generate_solutions_batch_size = 512*8,\n",
    "    nb_epochs = 200 ,\n",
    "    lr = 1e-3, #1e-4\n",
    "    lr_imp = 1e-3,\n",
    "    lr_diff = 1e-3,\n",
    "\n",
    "    #Loss\n",
    "    KLD_weight = 1e-2, #0.001\n",
    "\n",
    "    #Problem Statement\n",
    "    variation = True,\n",
    "    problem = \"smooth_1\",  #Not relevant anymore\n",
    "\n",
    "    #VAE training\n",
    "    weighting = True,\n",
    "    weighting_temp = 1,\n",
    "    sample_num = 4,  #To estimate advantage\n",
    "\n",
    "    #Problem sampling\n",
    "    sample_uniform = True,\n",
    "\n",
    "    #Decoding Method\n",
    "    testing_decoding_greedy = True,  #Need to specify all the different decoding decisions\n",
    "\n",
    "    #Diffusion\n",
    "    diffusion_steps = 600,\n",
    "    diffusion_loops = 1,\n",
    "\n",
    "    #Evaluation search budget\n",
    "    test_retry_num = 2,\n",
    "    evaluation_num = 512*8,\n",
    "\n",
    "    num_var = 2,\n",
    "    deg = 2,\n",
    "\n",
    "    latent_size = 2,   #We should make this larger\n",
    "\n",
    "\n",
    ")\n"
   ]
  },
  {
   "cell_type": "code",
   "execution_count": 4,
   "metadata": {},
   "outputs": [],
   "source": [
    "\n",
    "exp_name = \"pure_vae_sample_uniform_testing_14\"\n",
    "#exp_name = \"problems:1_baseline:4_uniform:5_epochs\"\n",
    "\n",
    "\n",
    "config.exp_name = exp_name\n",
    "run_id = np.random.randint(10000, 99999)\n",
    "now = datetime.datetime.now()\n",
    "\n",
    "if config.output_path == \"\":\n",
    "    config.output_path = os.getcwd()\n",
    "    config.output_path_fixed = config.output_path\n",
    "    config.output_path = os.path.join(config.output_path,\"experiment_info\", config.exp_name + \":_\" + str(now.day) + \".\" + str(now.month) +\".\" + str(now.year) + \"_\" + str(run_id))\n",
    "\n",
    "    os.makedirs(os.path.join(config.output_path, \"models\"))\n",
    "    os.makedirs(os.path.join(config.output_path, \"latent_images\"))"
   ]
  },
  {
   "cell_type": "code",
   "execution_count": 5,
   "metadata": {},
   "outputs": [
    {
     "name": "stdout",
     "output_type": "stream",
     "text": [
      "Finding Optimal Solutions\n"
     ]
    },
    {
     "name": "stderr",
     "output_type": "stream",
     "text": [
      "100%|██████████| 4096/4096 [00:08<00:00, 484.75it/s]\n",
      "2023-02-23 08:13:22.749147: I tensorflow/core/platform/cpu_feature_guard.cc:193] This TensorFlow binary is optimized with oneAPI Deep Neural Network Library (oneDNN) to use the following CPU instructions in performance-critical operations:  AVX2 AVX512F AVX512_VNNI FMA\n",
      "To enable them in other operations, rebuild TensorFlow with the appropriate compiler flags.\n",
      "2023-02-23 08:13:22.872843: I tensorflow/core/util/port.cc:104] oneDNN custom operations are on. You may see slightly different numerical results due to floating-point round-off errors from different computation orders. To turn them off, set the environment variable `TF_ENABLE_ONEDNN_OPTS=0`.\n",
      "2023-02-23 08:13:23.385127: W tensorflow/compiler/xla/stream_executor/platform/default/dso_loader.cc:64] Could not load dynamic library 'libnvinfer.so.7'; dlerror: libnvinfer.so.7: cannot open shared object file: No such file or directory\n",
      "2023-02-23 08:13:23.385173: W tensorflow/compiler/xla/stream_executor/platform/default/dso_loader.cc:64] Could not load dynamic library 'libnvinfer_plugin.so.7'; dlerror: libnvinfer_plugin.so.7: cannot open shared object file: No such file or directory\n",
      "2023-02-23 08:13:23.385178: W tensorflow/compiler/tf2tensorrt/utils/py_utils.cc:38] TF-TRT Warning: Cannot dlopen some TensorRT libraries. If you would like to use Nvidia GPU with TensorRT, please make sure the missing libraries mentioned above are installed properly.\n"
     ]
    },
    {
     "name": "stdout",
     "output_type": "stream",
     "text": [
      "Epoch:1\n",
      "Sampling Solutions\n"
     ]
    },
    {
     "name": "stderr",
     "output_type": "stream",
     "text": [
      "100%|██████████| 1/1 [00:01<00:00,  1.48s/it]\n",
      "100%|██████████| 1/1 [00:00<00:00,  2.02it/s]\n",
      "100%|██████████| 1/1 [00:00<00:00,  2.00it/s]\n",
      "100%|██████████| 1/1 [00:00<00:00,  2.06it/s]\n"
     ]
    },
    {
     "name": "stdout",
     "output_type": "stream",
     "text": [
      "Updating\n"
     ]
    },
    {
     "name": "stderr",
     "output_type": "stream",
     "text": [
      "100%|██████████| 32/32 [00:00<00:00, 62.51it/s]\n"
     ]
    },
    {
     "name": "stdout",
     "output_type": "stream",
     "text": [
      "Diffusion Loss:0.9916821997612715 Loop:0\n",
      "Reconstruction Loss:3801.8869247436523 Loop:0\n",
      "Change Loss:917.3538990020752 Loop:0\n",
      "Mean Squared Change Error:2.9239735305309296 Loop:0\n",
      "Evaluating\n"
     ]
    },
    {
     "name": "stderr",
     "output_type": "stream",
     "text": [
      "100%|██████████| 2/2 [00:00<00:00,  2.15it/s]\n"
     ]
    },
    {
     "name": "stdout",
     "output_type": "stream",
     "text": [
      "Plotting Data\n",
      "Epoch:2\n",
      "Sampling Solutions\n"
     ]
    },
    {
     "name": "stderr",
     "output_type": "stream",
     "text": [
      "100%|██████████| 1/1 [00:00<00:00,  2.05it/s]\n",
      "100%|██████████| 1/1 [00:00<00:00,  1.97it/s]\n",
      "100%|██████████| 1/1 [00:00<00:00,  1.91it/s]\n",
      "100%|██████████| 1/1 [00:00<00:00,  2.10it/s]\n"
     ]
    },
    {
     "name": "stdout",
     "output_type": "stream",
     "text": [
      "Updating\n"
     ]
    },
    {
     "name": "stderr",
     "output_type": "stream",
     "text": [
      "100%|██████████| 32/32 [00:00<00:00, 62.76it/s]\n"
     ]
    },
    {
     "name": "stdout",
     "output_type": "stream",
     "text": [
      "Diffusion Loss:0.9990910217165947 Loop:0\n",
      "Reconstruction Loss:3786.2425842285156 Loop:0\n",
      "Change Loss:910.6871109008789 Loop:0\n",
      "Mean Squared Change Error:1.2076241578906775 Loop:0\n",
      "Evaluating\n"
     ]
    },
    {
     "name": "stderr",
     "output_type": "stream",
     "text": [
      "100%|██████████| 2/2 [00:00<00:00,  2.14it/s]\n"
     ]
    },
    {
     "name": "stdout",
     "output_type": "stream",
     "text": [
      "Plotting Data\n",
      "Epoch:3\n",
      "Sampling Solutions\n"
     ]
    },
    {
     "name": "stderr",
     "output_type": "stream",
     "text": [
      "100%|██████████| 1/1 [00:00<00:00,  2.01it/s]\n",
      "100%|██████████| 1/1 [00:00<00:00,  2.09it/s]\n",
      "100%|██████████| 1/1 [00:00<00:00,  2.03it/s]\n",
      "100%|██████████| 1/1 [00:00<00:00,  1.95it/s]\n"
     ]
    },
    {
     "name": "stdout",
     "output_type": "stream",
     "text": [
      "Updating\n"
     ]
    },
    {
     "name": "stderr",
     "output_type": "stream",
     "text": [
      "100%|██████████| 32/32 [00:00<00:00, 57.87it/s]\n"
     ]
    },
    {
     "name": "stdout",
     "output_type": "stream",
     "text": [
      "Diffusion Loss:0.9954102821648121 Loop:0\n",
      "Reconstruction Loss:3748.149238586426 Loop:0\n",
      "Change Loss:895.3791770935059 Loop:0\n",
      "Mean Squared Change Error:0.8054703064262867 Loop:0\n",
      "Evaluating\n"
     ]
    },
    {
     "name": "stderr",
     "output_type": "stream",
     "text": [
      "100%|██████████| 2/2 [00:00<00:00,  2.02it/s]\n"
     ]
    },
    {
     "name": "stdout",
     "output_type": "stream",
     "text": [
      "Plotting Data\n",
      "Epoch:4\n",
      "Sampling Solutions\n"
     ]
    },
    {
     "name": "stderr",
     "output_type": "stream",
     "text": [
      "100%|██████████| 1/1 [00:00<00:00,  1.98it/s]\n",
      "100%|██████████| 1/1 [00:00<00:00,  2.01it/s]\n",
      "100%|██████████| 1/1 [00:00<00:00,  2.02it/s]\n",
      "100%|██████████| 1/1 [00:00<00:00,  2.00it/s]\n"
     ]
    },
    {
     "name": "stdout",
     "output_type": "stream",
     "text": [
      "Updating\n"
     ]
    },
    {
     "name": "stderr",
     "output_type": "stream",
     "text": [
      "100%|██████████| 32/32 [00:00<00:00, 59.60it/s]\n"
     ]
    },
    {
     "name": "stdout",
     "output_type": "stream",
     "text": [
      "Diffusion Loss:1.0028011985123158 Loop:0\n",
      "Reconstruction Loss:3717.4494018554688 Loop:0\n",
      "Change Loss:899.4823417663574 Loop:0\n",
      "Mean Squared Change Error:0.7998541574925184 Loop:0\n",
      "Evaluating\n"
     ]
    },
    {
     "name": "stderr",
     "output_type": "stream",
     "text": [
      "100%|██████████| 2/2 [00:00<00:00,  2.15it/s]\n"
     ]
    },
    {
     "name": "stdout",
     "output_type": "stream",
     "text": [
      "Plotting Data\n",
      "Epoch:5\n",
      "Sampling Solutions\n"
     ]
    },
    {
     "name": "stderr",
     "output_type": "stream",
     "text": [
      "100%|██████████| 1/1 [00:00<00:00,  2.00it/s]\n",
      "100%|██████████| 1/1 [00:00<00:00,  2.02it/s]\n",
      "100%|██████████| 1/1 [00:00<00:00,  2.12it/s]\n",
      "100%|██████████| 1/1 [00:00<00:00,  2.01it/s]\n"
     ]
    },
    {
     "name": "stdout",
     "output_type": "stream",
     "text": [
      "Updating\n"
     ]
    },
    {
     "name": "stderr",
     "output_type": "stream",
     "text": [
      "100%|██████████| 32/32 [00:00<00:00, 72.34it/s]\n"
     ]
    },
    {
     "name": "stdout",
     "output_type": "stream",
     "text": [
      "Diffusion Loss:1.0036930013448 Loop:0\n",
      "Reconstruction Loss:3700.4101638793945 Loop:0\n",
      "Change Loss:897.1688499450684 Loop:0\n",
      "Mean Squared Change Error:2.595301892608404 Loop:0\n",
      "Evaluating\n"
     ]
    },
    {
     "name": "stderr",
     "output_type": "stream",
     "text": [
      "100%|██████████| 2/2 [00:00<00:00,  2.11it/s]\n"
     ]
    },
    {
     "name": "stdout",
     "output_type": "stream",
     "text": [
      "Plotting Data\n",
      "Epoch:6\n",
      "Sampling Solutions\n"
     ]
    },
    {
     "name": "stderr",
     "output_type": "stream",
     "text": [
      "100%|██████████| 1/1 [00:00<00:00,  1.95it/s]\n",
      "100%|██████████| 1/1 [00:00<00:00,  2.11it/s]\n",
      "100%|██████████| 1/1 [00:00<00:00,  2.08it/s]\n",
      "100%|██████████| 1/1 [00:00<00:00,  2.10it/s]\n"
     ]
    },
    {
     "name": "stdout",
     "output_type": "stream",
     "text": [
      "Updating\n"
     ]
    },
    {
     "name": "stderr",
     "output_type": "stream",
     "text": [
      "100%|██████████| 32/32 [00:00<00:00, 56.12it/s]\n"
     ]
    },
    {
     "name": "stdout",
     "output_type": "stream",
     "text": [
      "Diffusion Loss:0.994677122682333 Loop:0\n",
      "Reconstruction Loss:3680.7745208740234 Loop:0\n",
      "Change Loss:895.7499256134033 Loop:0\n",
      "Mean Squared Change Error:3.355939071625471 Loop:0\n",
      "Evaluating\n"
     ]
    },
    {
     "name": "stderr",
     "output_type": "stream",
     "text": [
      "100%|██████████| 2/2 [00:00<00:00,  2.10it/s]\n"
     ]
    },
    {
     "name": "stdout",
     "output_type": "stream",
     "text": [
      "Plotting Data\n",
      "Epoch:7\n",
      "Sampling Solutions\n"
     ]
    },
    {
     "name": "stderr",
     "output_type": "stream",
     "text": [
      "100%|██████████| 1/1 [00:00<00:00,  2.10it/s]\n",
      "100%|██████████| 1/1 [00:00<00:00,  2.01it/s]\n",
      "100%|██████████| 1/1 [00:00<00:00,  2.10it/s]\n",
      "100%|██████████| 1/1 [00:00<00:00,  2.09it/s]\n"
     ]
    },
    {
     "name": "stdout",
     "output_type": "stream",
     "text": [
      "Updating\n"
     ]
    },
    {
     "name": "stderr",
     "output_type": "stream",
     "text": [
      "100%|██████████| 32/32 [00:00<00:00, 61.94it/s]\n"
     ]
    },
    {
     "name": "stdout",
     "output_type": "stream",
     "text": [
      "Diffusion Loss:1.0005377065390348 Loop:0\n",
      "Reconstruction Loss:3645.778778076172 Loop:0\n",
      "Change Loss:907.3263816833496 Loop:0\n",
      "Mean Squared Change Error:3.254617139697075 Loop:0\n",
      "Evaluating\n"
     ]
    },
    {
     "name": "stderr",
     "output_type": "stream",
     "text": [
      "100%|██████████| 2/2 [00:00<00:00,  2.15it/s]\n"
     ]
    },
    {
     "name": "stdout",
     "output_type": "stream",
     "text": [
      "Plotting Data\n",
      "Epoch:8\n",
      "Sampling Solutions\n"
     ]
    },
    {
     "name": "stderr",
     "output_type": "stream",
     "text": [
      "100%|██████████| 1/1 [00:00<00:00,  2.01it/s]\n",
      "100%|██████████| 1/1 [00:00<00:00,  2.04it/s]\n",
      "100%|██████████| 1/1 [00:00<00:00,  2.02it/s]\n",
      "100%|██████████| 1/1 [00:00<00:00,  1.98it/s]\n"
     ]
    },
    {
     "name": "stdout",
     "output_type": "stream",
     "text": [
      "Updating\n"
     ]
    },
    {
     "name": "stderr",
     "output_type": "stream",
     "text": [
      "100%|██████████| 32/32 [00:00<00:00, 66.91it/s]\n"
     ]
    },
    {
     "name": "stdout",
     "output_type": "stream",
     "text": [
      "Diffusion Loss:0.9955787267535925 Loop:0\n",
      "Reconstruction Loss:3576.6622924804688 Loop:0\n",
      "Change Loss:899.1981468200684 Loop:0\n",
      "Mean Squared Change Error:3.151876673102379 Loop:0\n",
      "Evaluating\n"
     ]
    },
    {
     "name": "stderr",
     "output_type": "stream",
     "text": [
      "100%|██████████| 2/2 [00:00<00:00,  2.12it/s]\n"
     ]
    },
    {
     "name": "stdout",
     "output_type": "stream",
     "text": [
      "Plotting Data\n",
      "Epoch:9\n",
      "Sampling Solutions\n"
     ]
    },
    {
     "name": "stderr",
     "output_type": "stream",
     "text": [
      "100%|██████████| 1/1 [00:00<00:00,  1.93it/s]\n",
      "100%|██████████| 1/1 [00:00<00:00,  1.99it/s]\n",
      "100%|██████████| 1/1 [00:00<00:00,  1.99it/s]\n",
      "100%|██████████| 1/1 [00:00<00:00,  2.08it/s]\n"
     ]
    },
    {
     "name": "stdout",
     "output_type": "stream",
     "text": [
      "Updating\n"
     ]
    },
    {
     "name": "stderr",
     "output_type": "stream",
     "text": [
      "100%|██████████| 32/32 [00:00<00:00, 64.00it/s]\n"
     ]
    },
    {
     "name": "stdout",
     "output_type": "stream",
     "text": [
      "Diffusion Loss:0.9980418495833874 Loop:0\n",
      "Reconstruction Loss:3489.895751953125 Loop:0\n",
      "Change Loss:894.1561660766602 Loop:0\n",
      "Mean Squared Change Error:1.9199889786541462 Loop:0\n",
      "Evaluating\n"
     ]
    },
    {
     "name": "stderr",
     "output_type": "stream",
     "text": [
      "100%|██████████| 2/2 [00:00<00:00,  2.12it/s]\n"
     ]
    },
    {
     "name": "stdout",
     "output_type": "stream",
     "text": [
      "Plotting Data\n",
      "Epoch:10\n",
      "Sampling Solutions\n"
     ]
    },
    {
     "name": "stderr",
     "output_type": "stream",
     "text": [
      "100%|██████████| 1/1 [00:00<00:00,  1.99it/s]\n",
      "100%|██████████| 1/1 [00:00<00:00,  2.04it/s]\n",
      "100%|██████████| 1/1 [00:00<00:00,  2.09it/s]\n",
      "100%|██████████| 1/1 [00:00<00:00,  2.07it/s]\n"
     ]
    },
    {
     "name": "stdout",
     "output_type": "stream",
     "text": [
      "Updating\n"
     ]
    },
    {
     "name": "stderr",
     "output_type": "stream",
     "text": [
      "100%|██████████| 32/32 [00:00<00:00, 63.80it/s]\n"
     ]
    },
    {
     "name": "stdout",
     "output_type": "stream",
     "text": [
      "Diffusion Loss:1.0005390476435423 Loop:0\n",
      "Reconstruction Loss:3416.2812271118164 Loop:0\n",
      "Change Loss:903.8567409515381 Loop:0\n",
      "Mean Squared Change Error:1.3584856390953064 Loop:0\n",
      "Evaluating\n"
     ]
    },
    {
     "name": "stderr",
     "output_type": "stream",
     "text": [
      "100%|██████████| 2/2 [00:00<00:00,  2.07it/s]\n"
     ]
    },
    {
     "name": "stdout",
     "output_type": "stream",
     "text": [
      "Plotting Data\n",
      "Epoch:11\n",
      "Sampling Solutions\n"
     ]
    },
    {
     "name": "stderr",
     "output_type": "stream",
     "text": [
      "100%|██████████| 1/1 [00:00<00:00,  2.10it/s]\n",
      "100%|██████████| 1/1 [00:00<00:00,  2.08it/s]\n",
      "100%|██████████| 1/1 [00:00<00:00,  2.09it/s]\n",
      "100%|██████████| 1/1 [00:00<00:00,  2.08it/s]\n"
     ]
    },
    {
     "name": "stdout",
     "output_type": "stream",
     "text": [
      "Updating\n"
     ]
    },
    {
     "name": "stderr",
     "output_type": "stream",
     "text": [
      "100%|██████████| 32/32 [00:00<00:00, 65.52it/s]\n"
     ]
    },
    {
     "name": "stdout",
     "output_type": "stream",
     "text": [
      "Diffusion Loss:0.9983585346490145 Loop:0\n",
      "Reconstruction Loss:3379.435989379883 Loop:0\n",
      "Change Loss:897.127649307251 Loop:0\n",
      "Mean Squared Change Error:1.286081861704588 Loop:0\n",
      "Evaluating\n"
     ]
    },
    {
     "name": "stderr",
     "output_type": "stream",
     "text": [
      "100%|██████████| 2/2 [00:00<00:00,  2.11it/s]\n"
     ]
    },
    {
     "name": "stdout",
     "output_type": "stream",
     "text": [
      "Plotting Data\n"
     ]
    },
    {
     "ename": "KeyboardInterrupt",
     "evalue": "",
     "output_type": "error",
     "traceback": [
      "\u001b[0;31m---------------------------------------------------------------------------\u001b[0m",
      "\u001b[0;31mKeyboardInterrupt\u001b[0m                         Traceback (most recent call last)",
      "Cell \u001b[0;32mIn[5], line 6\u001b[0m\n\u001b[1;32m      1\u001b[0m Model \u001b[39m=\u001b[39m VAE_Solver(config,diffusion_steps \u001b[39m=\u001b[39m config\u001b[39m.\u001b[39mdiffusion_steps,num_var \u001b[39m=\u001b[39m config\u001b[39m.\u001b[39mnum_var,deg \u001b[39m=\u001b[39m config\u001b[39m.\u001b[39mdeg,latent_size \u001b[39m=\u001b[39m config\u001b[39m.\u001b[39mlatent_size)\u001b[39m.\u001b[39mto(config\u001b[39m.\u001b[39mdevice)\n\u001b[1;32m      4\u001b[0m problem \u001b[39m=\u001b[39m ContextProblem(testing_num \u001b[39m=\u001b[39m config\u001b[39m.\u001b[39mevaluation_num ,variation \u001b[39m=\u001b[39m config\u001b[39m.\u001b[39mvariation,num_var \u001b[39m=\u001b[39m config\u001b[39m.\u001b[39mnum_var,deg \u001b[39m=\u001b[39m config\u001b[39m.\u001b[39mdeg)\n\u001b[0;32m----> 6\u001b[0m train(Model, config,problem,run_id \u001b[39m=\u001b[39;49m run_id)\n",
      "File \u001b[0;32m~/Documents/PhD/TVAE-Opt/trainy_context.py:91\u001b[0m, in \u001b[0;36mtrain\u001b[0;34m(model, config, problem, run_id)\u001b[0m\n\u001b[1;32m     89\u001b[0m evaluation_plotting(plotting_data_decoder,writer,epoch_idx,\u001b[39m\"\u001b[39m\u001b[39mTraining Decoder Decoding\u001b[39m\u001b[39m\"\u001b[39m,min_val \u001b[39m=\u001b[39m \u001b[39m-\u001b[39m\u001b[39m1\u001b[39m , max_val \u001b[39m=\u001b[39m \u001b[39m3\u001b[39m,plot_name \u001b[39m=\u001b[39m \u001b[39m\"\u001b[39m\u001b[39mDecoder Decoding\u001b[39m\u001b[39m\"\u001b[39m)\n\u001b[1;32m     90\u001b[0m evaluation_plotting(plotting_data_correct_decoding,writer,epoch_idx,\u001b[39m\"\u001b[39m\u001b[39mTraining Perfect Decoding\u001b[39m\u001b[39m\"\u001b[39m,min_val \u001b[39m=\u001b[39m \u001b[39m-\u001b[39m\u001b[39m1\u001b[39m , max_val \u001b[39m=\u001b[39m \u001b[39m3\u001b[39m,plot_name \u001b[39m=\u001b[39m \u001b[39m\"\u001b[39m\u001b[39mPerfect Decoding\u001b[39m\u001b[39m\"\u001b[39m,density \u001b[39m=\u001b[39m \u001b[39mTrue\u001b[39;00m,context \u001b[39m=\u001b[39m \u001b[39mTrue\u001b[39;00m)\n\u001b[0;32m---> 91\u001b[0m evaluation_plotting(plotting_data_sampled_solutions,writer,epoch_idx,\u001b[39m\"\u001b[39;49m\u001b[39mTraining Sampled Solutions\u001b[39;49m\u001b[39m\"\u001b[39;49m,min_val \u001b[39m=\u001b[39;49m \u001b[39m-\u001b[39;49m\u001b[39m1\u001b[39;49m , max_val \u001b[39m=\u001b[39;49m \u001b[39m3\u001b[39;49m,limit_min \u001b[39m=\u001b[39;49m \u001b[39m-\u001b[39;49m\u001b[39m1\u001b[39;49m,limit_max \u001b[39m=\u001b[39;49m \u001b[39m1\u001b[39;49m,plot_name \u001b[39m=\u001b[39;49m \u001b[39m\"\u001b[39;49m\u001b[39mSampled Solution Space\u001b[39;49m\u001b[39m\"\u001b[39;49m,density \u001b[39m=\u001b[39;49m \u001b[39mTrue\u001b[39;49;00m)\n\u001b[1;32m     95\u001b[0m \u001b[39m#Evaluation Plotting\u001b[39;00m\n\u001b[1;32m     96\u001b[0m \u001b[39m#evaluation_plotting(plotting_optimality,writer,epoch_idx,\"Evaluation Optimality Gap\",min_val = 0 , max_val = 4,plot_name = \"Evaluation Optimality Gap\",plot_improver = False,evaluation = True)\u001b[39;00m\n\u001b[1;32m     97\u001b[0m evaluation_plotting(plotting,writer,epoch_idx,\u001b[39m\"\u001b[39m\u001b[39mEvaluation Reward\u001b[39m\u001b[39m\"\u001b[39m,min_val \u001b[39m=\u001b[39m \u001b[39m-\u001b[39m\u001b[39m1\u001b[39m , max_val \u001b[39m=\u001b[39m \u001b[39m3\u001b[39m,plot_name \u001b[39m=\u001b[39m \u001b[39m\"\u001b[39m\u001b[39mEvaluation\u001b[39m\u001b[39m\"\u001b[39m,density \u001b[39m=\u001b[39m \u001b[39mTrue\u001b[39;00m,plot_improver \u001b[39m=\u001b[39m \u001b[39mTrue\u001b[39;00m,evaluation \u001b[39m=\u001b[39m \u001b[39mTrue\u001b[39;00m)\n",
      "File \u001b[0;32m~/Documents/PhD/TVAE-Opt/utils.py:365\u001b[0m, in \u001b[0;36mevaluation_plotting\u001b[0;34m(plotting_data, writer, epoch_idx, name, min_val, max_val, limit_min, limit_max, plot_name, density, plot_improver, evaluation, context)\u001b[0m\n\u001b[1;32m    363\u001b[0m \u001b[39m#Log latents sampling to tensorboard\u001b[39;00m\n\u001b[1;32m    364\u001b[0m fig, ax \u001b[39m=\u001b[39m plt\u001b[39m.\u001b[39msubplots()\n\u001b[0;32m--> 365\u001b[0m x \u001b[39m=\u001b[39m sns\u001b[39m.\u001b[39;49mscatterplot(data\u001b[39m=\u001b[39;49mlatent_space_decoder_decoding , x\u001b[39m=\u001b[39;49m\u001b[39m\"\u001b[39;49m\u001b[39mx\u001b[39;49m\u001b[39m\"\u001b[39;49m, y\u001b[39m=\u001b[39;49m\u001b[39m\"\u001b[39;49m\u001b[39my\u001b[39;49m\u001b[39m\"\u001b[39;49m, hue\u001b[39m=\u001b[39;49m\u001b[39m\"\u001b[39;49m\u001b[39mov\u001b[39;49m\u001b[39m\"\u001b[39;49m,hue_norm \u001b[39m=\u001b[39;49m (min_val,max_val),palette \u001b[39m=\u001b[39;49m \u001b[39m\"\u001b[39;49m\u001b[39micefire\u001b[39;49m\u001b[39m\"\u001b[39;49m,s\u001b[39m=\u001b[39;49m\u001b[39m20\u001b[39;49m)\n\u001b[1;32m    366\u001b[0m ax\u001b[39m.\u001b[39mset_ylim(limit_min,limit_max)\n\u001b[1;32m    367\u001b[0m ax\u001b[39m.\u001b[39mset_xlim(limit_min,limit_max)\n",
      "File \u001b[0;32m~/miniconda3/envs/CVAE_env/lib/python3.9/site-packages/seaborn/relational.py:761\u001b[0m, in \u001b[0;36mscatterplot\u001b[0;34m(data, x, y, hue, size, style, palette, hue_order, hue_norm, sizes, size_order, size_norm, markers, style_order, legend, ax, **kwargs)\u001b[0m\n\u001b[1;32m    758\u001b[0m color \u001b[39m=\u001b[39m kwargs\u001b[39m.\u001b[39mpop(\u001b[39m\"\u001b[39m\u001b[39mcolor\u001b[39m\u001b[39m\"\u001b[39m, \u001b[39mNone\u001b[39;00m)\n\u001b[1;32m    759\u001b[0m kwargs[\u001b[39m\"\u001b[39m\u001b[39mcolor\u001b[39m\u001b[39m\"\u001b[39m] \u001b[39m=\u001b[39m _default_color(ax\u001b[39m.\u001b[39mscatter, hue, color, kwargs)\n\u001b[0;32m--> 761\u001b[0m p\u001b[39m.\u001b[39;49mplot(ax, kwargs)\n\u001b[1;32m    763\u001b[0m \u001b[39mreturn\u001b[39;00m ax\n",
      "File \u001b[0;32m~/miniconda3/envs/CVAE_env/lib/python3.9/site-packages/seaborn/relational.py:578\u001b[0m, in \u001b[0;36m_ScatterPlotter.plot\u001b[0;34m(self, ax, kws)\u001b[0m\n\u001b[1;32m    575\u001b[0m \u001b[39m# Apply the mapping from semantic variables to artist attributes\u001b[39;00m\n\u001b[1;32m    577\u001b[0m \u001b[39mif\u001b[39;00m \u001b[39m\"\u001b[39m\u001b[39mhue\u001b[39m\u001b[39m\"\u001b[39m \u001b[39min\u001b[39;00m \u001b[39mself\u001b[39m\u001b[39m.\u001b[39mvariables:\n\u001b[0;32m--> 578\u001b[0m     points\u001b[39m.\u001b[39mset_facecolors(\u001b[39mself\u001b[39;49m\u001b[39m.\u001b[39;49m_hue_map(data[\u001b[39m\"\u001b[39;49m\u001b[39mhue\u001b[39;49m\u001b[39m\"\u001b[39;49m]))\n\u001b[1;32m    580\u001b[0m \u001b[39mif\u001b[39;00m \u001b[39m\"\u001b[39m\u001b[39msize\u001b[39m\u001b[39m\"\u001b[39m \u001b[39min\u001b[39;00m \u001b[39mself\u001b[39m\u001b[39m.\u001b[39mvariables:\n\u001b[1;32m    581\u001b[0m     points\u001b[39m.\u001b[39mset_sizes(\u001b[39mself\u001b[39m\u001b[39m.\u001b[39m_size_map(data[\u001b[39m\"\u001b[39m\u001b[39msize\u001b[39m\u001b[39m\"\u001b[39m]))\n",
      "File \u001b[0;32m~/miniconda3/envs/CVAE_env/lib/python3.9/site-packages/seaborn/_oldcore.py:89\u001b[0m, in \u001b[0;36mSemanticMapping.__call__\u001b[0;34m(self, key, *args, **kwargs)\u001b[0m\n\u001b[1;32m     87\u001b[0m \u001b[39m\u001b[39m\u001b[39m\"\"\"Get the attribute(s) values for the data key.\"\"\"\u001b[39;00m\n\u001b[1;32m     88\u001b[0m \u001b[39mif\u001b[39;00m \u001b[39misinstance\u001b[39m(key, (\u001b[39mlist\u001b[39m, np\u001b[39m.\u001b[39mndarray, pd\u001b[39m.\u001b[39mSeries)):\n\u001b[0;32m---> 89\u001b[0m     \u001b[39mreturn\u001b[39;00m [\u001b[39mself\u001b[39m\u001b[39m.\u001b[39m_lookup_single(k, \u001b[39m*\u001b[39margs, \u001b[39m*\u001b[39m\u001b[39m*\u001b[39mkwargs) \u001b[39mfor\u001b[39;00m k \u001b[39min\u001b[39;00m key]\n\u001b[1;32m     90\u001b[0m \u001b[39melse\u001b[39;00m:\n\u001b[1;32m     91\u001b[0m     \u001b[39mreturn\u001b[39;00m \u001b[39mself\u001b[39m\u001b[39m.\u001b[39m_lookup_single(key, \u001b[39m*\u001b[39margs, \u001b[39m*\u001b[39m\u001b[39m*\u001b[39mkwargs)\n",
      "File \u001b[0;32m~/miniconda3/envs/CVAE_env/lib/python3.9/site-packages/seaborn/_oldcore.py:89\u001b[0m, in \u001b[0;36m<listcomp>\u001b[0;34m(.0)\u001b[0m\n\u001b[1;32m     87\u001b[0m \u001b[39m\u001b[39m\u001b[39m\"\"\"Get the attribute(s) values for the data key.\"\"\"\u001b[39;00m\n\u001b[1;32m     88\u001b[0m \u001b[39mif\u001b[39;00m \u001b[39misinstance\u001b[39m(key, (\u001b[39mlist\u001b[39m, np\u001b[39m.\u001b[39mndarray, pd\u001b[39m.\u001b[39mSeries)):\n\u001b[0;32m---> 89\u001b[0m     \u001b[39mreturn\u001b[39;00m [\u001b[39mself\u001b[39;49m\u001b[39m.\u001b[39;49m_lookup_single(k, \u001b[39m*\u001b[39;49margs, \u001b[39m*\u001b[39;49m\u001b[39m*\u001b[39;49mkwargs) \u001b[39mfor\u001b[39;00m k \u001b[39min\u001b[39;00m key]\n\u001b[1;32m     90\u001b[0m \u001b[39melse\u001b[39;00m:\n\u001b[1;32m     91\u001b[0m     \u001b[39mreturn\u001b[39;00m \u001b[39mself\u001b[39m\u001b[39m.\u001b[39m_lookup_single(key, \u001b[39m*\u001b[39margs, \u001b[39m*\u001b[39m\u001b[39m*\u001b[39mkwargs)\n",
      "File \u001b[0;32m~/miniconda3/envs/CVAE_env/lib/python3.9/site-packages/seaborn/_oldcore.py:174\u001b[0m, in \u001b[0;36mHueMapping._lookup_single\u001b[0;34m(self, key)\u001b[0m\n\u001b[1;32m    171\u001b[0m \u001b[39m\u001b[39m\u001b[39m\"\"\"Get the color for a single value, using colormap to interpolate.\"\"\"\u001b[39;00m\n\u001b[1;32m    172\u001b[0m \u001b[39mtry\u001b[39;00m:\n\u001b[1;32m    173\u001b[0m     \u001b[39m# Use a value that's in the original data vector\u001b[39;00m\n\u001b[0;32m--> 174\u001b[0m     value \u001b[39m=\u001b[39m \u001b[39mself\u001b[39;49m\u001b[39m.\u001b[39;49mlookup_table[key]\n\u001b[1;32m    175\u001b[0m \u001b[39mexcept\u001b[39;00m \u001b[39mKeyError\u001b[39;00m:\n\u001b[1;32m    177\u001b[0m     \u001b[39mif\u001b[39;00m \u001b[39mself\u001b[39m\u001b[39m.\u001b[39mnorm \u001b[39mis\u001b[39;00m \u001b[39mNone\u001b[39;00m:\n\u001b[1;32m    178\u001b[0m         \u001b[39m# Currently we only get here in scatterplot with hue_order,\u001b[39;00m\n\u001b[1;32m    179\u001b[0m         \u001b[39m# because scatterplot does not consider hue a grouping variable\u001b[39;00m\n\u001b[1;32m    180\u001b[0m         \u001b[39m# So unused hue levels are in the data, but not the lookup table\u001b[39;00m\n",
      "\u001b[0;31mKeyboardInterrupt\u001b[0m: "
     ]
    },
    {
     "data": {
      "image/png": "[encoded data removed]",
      "text/plain": [
       "<Figure size 640x480 with 1 Axes>"
      ]
     },
     "metadata": {},
     "output_type": "display_data"
    }
   ],
   "source": [
    "\n",
    "\n",
    "Model = VAE_Solver(config,diffusion_steps = config.diffusion_steps,num_var = config.num_var,deg = config.deg,latent_size = config.latent_size).to(config.device)\n",
    "\n",
    "\n",
    "problem = ContextProblem(testing_num = config.evaluation_num ,variation = config.variation,num_var = config.num_var,deg = config.deg)\n",
    "\n",
    "train(Model, config,problem,run_id = run_id)"
   ]
  }
 ],
 "metadata": {
  "kernelspec": {
   "display_name": "CVAE_env",
   "language": "python",
   "name": "python3"
  },
  "language_info": {
   "codemirror_mode": {
    "name": "ipython",
    "version": 3
   },
   "file_extension": ".py",
   "mimetype": "text/x-python",
   "name": "python",
   "nbconvert_exporter": "python",
   "pygments_lexer": "ipython3",
   "version": "3.9.13"
  },
  "orig_nbformat": 4,
  "vscode": {
   "interpreter": {
    "hash": "27e02dc85369733a903742787515facd417f96dea0ebccbb0c1c94899258b880"
   }
  }
 },
 "nbformat": 4,
 "nbformat_minor": 2
}
