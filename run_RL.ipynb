{
 "cells": [
  {
   "cell_type": "code",
   "execution_count": 1,
   "metadata": {},
   "outputs": [
    {
     "name": "stderr",
     "output_type": "stream",
     "text": [
      "/home/mvmacfarlane/miniconda3/envs/CVAE_env/lib/python3.9/site-packages/tqdm/auto.py:22: TqdmWarning: IProgress not found. Please update jupyter and ipywidgets. See https://ipywidgets.readthedocs.io/en/stable/user_install.html\n",
      "  from .autonotebook import tqdm as notebook_tqdm\n"
     ]
    }
   ],
   "source": [
    "import os\n",
    "from train_rl import train\n",
    "import toy\n",
    "import numpy as np\n",
    "import datetime\n",
    "from model import VAE_Solver,RL_Solver\n",
    "from toy import ContextProblem"
   ]
  },
  {
   "cell_type": "code",
   "execution_count": 2,
   "metadata": {},
   "outputs": [],
   "source": [
    "class Namespace:\n",
    "    def __init__(self, **kwargs):\n",
    "        self.__dict__.update(kwargs)\n"
   ]
  },
  {
   "cell_type": "code",
   "execution_count": 3,
   "metadata": {},
   "outputs": [],
   "source": [
    "#Create config\n",
    "\n",
    "config = Namespace(\n",
    "\n",
    "    #Running Settings\n",
    "    output_path = \"\",\n",
    "    device = \"cuda\",\n",
    "    model_path = None,\n",
    "\n",
    "    #Training\n",
    "    batch_size = 512,\n",
    "    epoch_size = 512*8,  #102400\n",
    "    generate_solutions_batch_size = 512*8,\n",
    "    nb_epochs = 200 ,\n",
    "    lr = 1e-4,\n",
    "    lr_imp = 1e-10,\n",
    "    lr_diff = 1e-3,\n",
    "\n",
    "    #Loss\n",
    "    KLD_weight = 1e-2, #0.001\n",
    "    Centering_weight = 1e-2, #0.001   #We don't need this so don't use it!\n",
    "\n",
    "    #Problem Statement\n",
    "    variation = True,\n",
    "    problem = \"smooth_1\",  #Not relevant anymore\n",
    "\n",
    "    #VAE training\n",
    "    weighting = True,\n",
    "    weighting_temp = 1,\n",
    "    sample_num = 4,  #To estimate advantage\n",
    "\n",
    "    #Problem sampling\n",
    "    #What does this mean inh this context nothing I think\n",
    "    sample_uniform = True,\n",
    "\n",
    "    #Decoding Method\n",
    "    #testing_decoding_greedy = True,  #Need to specify all the different decoding decisions\n",
    "\n",
    "    #Diffusion\n",
    "    diffusion_steps = 600,\n",
    "    diffusion_loops = 10,\n",
    "\n",
    "    #Evaluation search budget\n",
    "    test_retry_num = 100,\n",
    "    evaluation_num = 512*8,\n",
    "\n",
    "    num_var = 2,\n",
    "    deg = 2,\n",
    "\n",
    "\n",
    "\n",
    " \n",
    ")\n"
   ]
  },
  {
   "cell_type": "code",
   "execution_count": 4,
   "metadata": {},
   "outputs": [],
   "source": [
    "\n",
    "exp_name = \"improvement_debug_2\"\n",
    "#exp_name = \"plotting_gap_3\"\n",
    "#exp_name = \"problems:1_baseline:4_uniform:5_epochs\"\n",
    "\n",
    "\n",
    "config.exp_name = exp_name\n",
    "run_id = np.random.randint(10000, 99999)\n",
    "now = datetime.datetime.now()\n",
    "\n",
    "if config.output_path == \"\":\n",
    "    config.output_path = os.getcwd()\n",
    "    config.output_path_fixed = config.output_path\n",
    "    config.output_path = os.path.join(config.output_path,\"experiment_info\", config.exp_name + \":_\" + str(now.day) + \".\" + str(now.month) +\".\" + str(now.year) + \"_\" + str(run_id))\n",
    "\n",
    "    os.makedirs(os.path.join(config.output_path, \"models\"))\n",
    "    os.makedirs(os.path.join(config.output_path, \"latent_images\"))"
   ]
  },
  {
   "cell_type": "code",
   "execution_count": 5,
   "metadata": {},
   "outputs": [
    {
     "name": "stderr",
     "output_type": "stream",
     "text": [
      "2023-02-21 17:32:05.350238: I tensorflow/core/platform/cpu_feature_guard.cc:193] This TensorFlow binary is optimized with oneAPI Deep Neural Network Library (oneDNN) to use the following CPU instructions in performance-critical operations:  AVX2 AVX512F AVX512_VNNI FMA\n",
      "To enable them in other operations, rebuild TensorFlow with the appropriate compiler flags.\n",
      "2023-02-21 17:32:05.486791: I tensorflow/core/util/port.cc:104] oneDNN custom operations are on. You may see slightly different numerical results due to floating-point round-off errors from different computation orders. To turn them off, set the environment variable `TF_ENABLE_ONEDNN_OPTS=0`.\n",
      "2023-02-21 17:32:06.034153: W tensorflow/compiler/xla/stream_executor/platform/default/dso_loader.cc:64] Could not load dynamic library 'libnvinfer.so.7'; dlerror: libnvinfer.so.7: cannot open shared object file: No such file or directory\n",
      "2023-02-21 17:32:06.034199: W tensorflow/compiler/xla/stream_executor/platform/default/dso_loader.cc:64] Could not load dynamic library 'libnvinfer_plugin.so.7'; dlerror: libnvinfer_plugin.so.7: cannot open shared object file: No such file or directory\n",
      "2023-02-21 17:32:06.034204: W tensorflow/compiler/tf2tensorrt/utils/py_utils.cc:38] TF-TRT Warning: Cannot dlopen some TensorRT libraries. If you would like to use Nvidia GPU with TensorRT, please make sure the missing libraries mentioned above are installed properly.\n"
     ]
    },
    {
     "name": "stdout",
     "output_type": "stream",
     "text": [
      "Epoch:1\n",
      "Sampling Solutions\n"
     ]
    },
    {
     "name": "stderr",
     "output_type": "stream",
     "text": [
      "100%|██████████| 1/1 [00:01<00:00,  1.03s/it]\n",
      "100%|██████████| 1/1 [00:00<00:00, 180.28it/s]\n",
      "100%|██████████| 1/1 [00:00<00:00, 195.91it/s]\n",
      "100%|██████████| 1/1 [00:00<00:00, 213.48it/s]\n"
     ]
    },
    {
     "name": "stdout",
     "output_type": "stream",
     "text": [
      "Updating\n"
     ]
    },
    {
     "name": "stderr",
     "output_type": "stream",
     "text": [
      "100%|██████████| 32/32 [00:00<00:00, 128.31it/s]\n"
     ]
    },
    {
     "name": "stdout",
     "output_type": "stream",
     "text": [
      "RL Loss:-6.123640537261963 Loop:0\n",
      "Evaluating\n"
     ]
    },
    {
     "name": "stderr",
     "output_type": "stream",
     "text": [
      "100%|██████████| 100/100 [00:00<00:00, 462.02it/s]\n"
     ]
    },
    {
     "name": "stdout",
     "output_type": "stream",
     "text": [
      "Epoch:2\n",
      "Sampling Solutions\n"
     ]
    },
    {
     "name": "stderr",
     "output_type": "stream",
     "text": [
      "100%|██████████| 1/1 [00:00<00:00, 433.12it/s]\n",
      "100%|██████████| 1/1 [00:00<00:00, 467.02it/s]\n",
      "100%|██████████| 1/1 [00:00<00:00, 385.61it/s]\n",
      "100%|██████████| 1/1 [00:00<00:00, 414.33it/s]\n"
     ]
    },
    {
     "name": "stdout",
     "output_type": "stream",
     "text": [
      "Updating\n"
     ]
    },
    {
     "name": "stderr",
     "output_type": "stream",
     "text": [
      "100%|██████████| 32/32 [00:00<00:00, 113.56it/s]\n"
     ]
    },
    {
     "name": "stdout",
     "output_type": "stream",
     "text": [
      "RL Loss:-55.97444427013397 Loop:0\n",
      "Evaluating\n"
     ]
    },
    {
     "name": "stderr",
     "output_type": "stream",
     "text": [
      "100%|██████████| 100/100 [00:00<00:00, 454.67it/s]\n"
     ]
    },
    {
     "name": "stdout",
     "output_type": "stream",
     "text": [
      "Epoch:3\n",
      "Sampling Solutions\n"
     ]
    },
    {
     "name": "stderr",
     "output_type": "stream",
     "text": [
      "100%|██████████| 1/1 [00:00<00:00, 198.31it/s]\n",
      "100%|██████████| 1/1 [00:00<00:00, 213.52it/s]\n",
      "100%|██████████| 1/1 [00:00<00:00, 363.65it/s]\n",
      "100%|██████████| 1/1 [00:00<00:00, 305.40it/s]\n"
     ]
    },
    {
     "name": "stdout",
     "output_type": "stream",
     "text": [
      "Updating\n"
     ]
    },
    {
     "name": "stderr",
     "output_type": "stream",
     "text": [
      "100%|██████████| 32/32 [00:00<00:00, 128.79it/s]\n"
     ]
    },
    {
     "name": "stdout",
     "output_type": "stream",
     "text": [
      "RL Loss:-240.4044233560562 Loop:0\n",
      "Evaluating\n"
     ]
    },
    {
     "name": "stderr",
     "output_type": "stream",
     "text": [
      "100%|██████████| 100/100 [00:00<00:00, 437.00it/s]\n"
     ]
    },
    {
     "name": "stdout",
     "output_type": "stream",
     "text": [
      "Epoch:4\n",
      "Sampling Solutions\n"
     ]
    },
    {
     "name": "stderr",
     "output_type": "stream",
     "text": [
      "100%|██████████| 1/1 [00:00<00:00, 207.60it/s]\n",
      "100%|██████████| 1/1 [00:00<00:00, 214.84it/s]\n",
      "100%|██████████| 1/1 [00:00<00:00, 214.52it/s]\n",
      "100%|██████████| 1/1 [00:00<00:00, 241.96it/s]\n"
     ]
    },
    {
     "name": "stdout",
     "output_type": "stream",
     "text": [
      "Updating\n"
     ]
    },
    {
     "name": "stderr",
     "output_type": "stream",
     "text": [
      "100%|██████████| 32/32 [00:00<00:00, 127.46it/s]\n"
     ]
    },
    {
     "name": "stdout",
     "output_type": "stream",
     "text": [
      "RL Loss:-425.66268038749695 Loop:0\n",
      "Evaluating\n"
     ]
    },
    {
     "name": "stderr",
     "output_type": "stream",
     "text": [
      "100%|██████████| 100/100 [00:00<00:00, 365.59it/s]\n"
     ]
    },
    {
     "name": "stdout",
     "output_type": "stream",
     "text": [
      "Epoch:5\n",
      "Sampling Solutions\n"
     ]
    },
    {
     "name": "stderr",
     "output_type": "stream",
     "text": [
      "100%|██████████| 1/1 [00:00<00:00, 216.55it/s]\n",
      "100%|██████████| 1/1 [00:00<00:00, 398.40it/s]\n",
      "100%|██████████| 1/1 [00:00<00:00, 331.17it/s]\n",
      "100%|██████████| 1/1 [00:00<00:00, 319.66it/s]\n"
     ]
    },
    {
     "name": "stdout",
     "output_type": "stream",
     "text": [
      "Updating\n"
     ]
    },
    {
     "name": "stderr",
     "output_type": "stream",
     "text": [
      "100%|██████████| 32/32 [00:00<00:00, 125.90it/s]\n"
     ]
    },
    {
     "name": "stdout",
     "output_type": "stream",
     "text": [
      "RL Loss:-426.5911183357239 Loop:0\n",
      "Evaluating\n"
     ]
    },
    {
     "name": "stderr",
     "output_type": "stream",
     "text": [
      "100%|██████████| 100/100 [00:00<00:00, 491.20it/s]\n"
     ]
    },
    {
     "name": "stdout",
     "output_type": "stream",
     "text": [
      "Epoch:6\n",
      "Sampling Solutions\n"
     ]
    },
    {
     "name": "stderr",
     "output_type": "stream",
     "text": [
      "100%|██████████| 1/1 [00:00<00:00, 445.92it/s]\n",
      "100%|██████████| 1/1 [00:00<00:00, 496.72it/s]\n",
      "100%|██████████| 1/1 [00:00<00:00, 436.54it/s]\n",
      "100%|██████████| 1/1 [00:00<00:00, 457.74it/s]\n"
     ]
    },
    {
     "name": "stdout",
     "output_type": "stream",
     "text": [
      "Updating\n"
     ]
    },
    {
     "name": "stderr",
     "output_type": "stream",
     "text": [
      "100%|██████████| 32/32 [00:00<00:00, 112.84it/s]\n"
     ]
    },
    {
     "name": "stdout",
     "output_type": "stream",
     "text": [
      "RL Loss:-386.7326134443283 Loop:0\n",
      "Evaluating\n"
     ]
    },
    {
     "name": "stderr",
     "output_type": "stream",
     "text": [
      "100%|██████████| 100/100 [00:00<00:00, 486.03it/s]\n"
     ]
    },
    {
     "name": "stdout",
     "output_type": "stream",
     "text": [
      "Epoch:7\n",
      "Sampling Solutions\n"
     ]
    },
    {
     "name": "stderr",
     "output_type": "stream",
     "text": [
      "100%|██████████| 1/1 [00:00<00:00, 452.80it/s]\n",
      "100%|██████████| 1/1 [00:00<00:00, 479.02it/s]\n",
      "100%|██████████| 1/1 [00:00<00:00, 206.61it/s]\n",
      "100%|██████████| 1/1 [00:00<00:00, 213.41it/s]\n"
     ]
    },
    {
     "name": "stdout",
     "output_type": "stream",
     "text": [
      "Updating\n"
     ]
    },
    {
     "name": "stderr",
     "output_type": "stream",
     "text": [
      "100%|██████████| 32/32 [00:00<00:00, 122.69it/s]\n"
     ]
    },
    {
     "name": "stdout",
     "output_type": "stream",
     "text": [
      "RL Loss:-397.87973642349243 Loop:0\n",
      "Evaluating\n"
     ]
    },
    {
     "name": "stderr",
     "output_type": "stream",
     "text": [
      "100%|██████████| 100/100 [00:00<00:00, 493.46it/s]\n"
     ]
    },
    {
     "name": "stdout",
     "output_type": "stream",
     "text": [
      "Epoch:8\n",
      "Sampling Solutions\n"
     ]
    },
    {
     "name": "stderr",
     "output_type": "stream",
     "text": [
      "100%|██████████| 1/1 [00:00<00:00, 550.07it/s]\n",
      "100%|██████████| 1/1 [00:00<00:00, 215.49it/s]\n",
      "100%|██████████| 1/1 [00:00<00:00, 219.07it/s]\n",
      "100%|██████████| 1/1 [00:00<00:00, 224.45it/s]\n"
     ]
    },
    {
     "name": "stdout",
     "output_type": "stream",
     "text": [
      "Updating\n"
     ]
    },
    {
     "name": "stderr",
     "output_type": "stream",
     "text": [
      "100%|██████████| 32/32 [00:00<00:00, 127.56it/s]\n"
     ]
    },
    {
     "name": "stdout",
     "output_type": "stream",
     "text": [
      "RL Loss:-371.7282769680023 Loop:0\n",
      "Evaluating\n"
     ]
    },
    {
     "name": "stderr",
     "output_type": "stream",
     "text": [
      "100%|██████████| 100/100 [00:00<00:00, 502.40it/s]\n"
     ]
    },
    {
     "name": "stdout",
     "output_type": "stream",
     "text": [
      "Epoch:9\n",
      "Sampling Solutions\n"
     ]
    },
    {
     "name": "stderr",
     "output_type": "stream",
     "text": [
      "100%|██████████| 1/1 [00:00<00:00, 465.72it/s]\n",
      "100%|██████████| 1/1 [00:00<00:00, 484.27it/s]\n",
      "100%|██████████| 1/1 [00:00<00:00, 471.32it/s]\n",
      "100%|██████████| 1/1 [00:00<00:00, 496.84it/s]\n"
     ]
    },
    {
     "name": "stdout",
     "output_type": "stream",
     "text": [
      "Updating\n"
     ]
    },
    {
     "name": "stderr",
     "output_type": "stream",
     "text": [
      "100%|██████████| 32/32 [00:00<00:00, 136.52it/s]\n"
     ]
    },
    {
     "name": "stdout",
     "output_type": "stream",
     "text": [
      "RL Loss:-386.43080472946167 Loop:0\n",
      "Evaluating\n"
     ]
    },
    {
     "name": "stderr",
     "output_type": "stream",
     "text": [
      "100%|██████████| 100/100 [00:00<00:00, 467.72it/s]\n"
     ]
    },
    {
     "name": "stdout",
     "output_type": "stream",
     "text": [
      "Epoch:10\n",
      "Sampling Solutions\n"
     ]
    },
    {
     "name": "stderr",
     "output_type": "stream",
     "text": [
      "100%|██████████| 1/1 [00:00<00:00, 554.88it/s]\n",
      "100%|██████████| 1/1 [00:00<00:00, 513.57it/s]\n",
      "100%|██████████| 1/1 [00:00<00:00, 588.34it/s]"
     ]
    },
    {
     "ename": "KeyboardInterrupt",
     "evalue": "",
     "output_type": "error",
     "traceback": [
      "\u001b[0;31m---------------------------------------------------------------------------\u001b[0m",
      "\u001b[0;31mKeyboardInterrupt\u001b[0m                         Traceback (most recent call last)",
      "Cell \u001b[0;32mIn[5], line 6\u001b[0m\n\u001b[1;32m      1\u001b[0m Model \u001b[39m=\u001b[39m RL_Solver(config,diffusion_steps \u001b[39m=\u001b[39m config\u001b[39m.\u001b[39mdiffusion_steps,num_var \u001b[39m=\u001b[39m config\u001b[39m.\u001b[39mnum_var,deg \u001b[39m=\u001b[39m config\u001b[39m.\u001b[39mdeg)\u001b[39m.\u001b[39mto(config\u001b[39m.\u001b[39mdevice)\n\u001b[1;32m      4\u001b[0m problem \u001b[39m=\u001b[39m ContextProblem(testing_num \u001b[39m=\u001b[39m config\u001b[39m.\u001b[39mevaluation_num ,variation \u001b[39m=\u001b[39m config\u001b[39m.\u001b[39mvariation,num_var \u001b[39m=\u001b[39m config\u001b[39m.\u001b[39mnum_var,deg \u001b[39m=\u001b[39m config\u001b[39m.\u001b[39mdeg)\n\u001b[0;32m----> 6\u001b[0m train(Model, config,problem,run_id \u001b[39m=\u001b[39;49m run_id)\n",
      "File \u001b[0;32m~/Documents/PhD/TVAE-Opt/train_rl.py:45\u001b[0m, in \u001b[0;36mtrain\u001b[0;34m(model, config, problem, run_id)\u001b[0m\n\u001b[1;32m     42\u001b[0m \u001b[39mprint\u001b[39m(\u001b[39m\"\u001b[39m\u001b[39mEpoch:\u001b[39m\u001b[39m{}\u001b[39;00m\u001b[39m\"\u001b[39m\u001b[39m.\u001b[39mformat(epoch_idx))\n\u001b[1;32m     44\u001b[0m \u001b[39m#Training\u001b[39;00m\n\u001b[0;32m---> 45\u001b[0m model,_,tracking_losses,total_time,total_time_generate \u001b[39m=\u001b[39m train_epoch(\n\u001b[1;32m     46\u001b[0m     \n\u001b[1;32m     47\u001b[0m     model,\n\u001b[1;32m     48\u001b[0m     model_start,\n\u001b[1;32m     49\u001b[0m     config,\n\u001b[1;32m     50\u001b[0m     epoch_idx,\n\u001b[1;32m     51\u001b[0m     optimizer,\n\u001b[1;32m     52\u001b[0m     problem,\n\u001b[1;32m     53\u001b[0m \n\u001b[1;32m     54\u001b[0m )\n\u001b[1;32m     57\u001b[0m \u001b[39m#Logging Training Variables\u001b[39;00m\n\u001b[1;32m     58\u001b[0m \u001b[39mfor\u001b[39;00m key, value \u001b[39min\u001b[39;00m tracking_losses\u001b[39m.\u001b[39mitems():\n",
      "File \u001b[0;32m~/Documents/PhD/TVAE-Opt/train_rl.py:110\u001b[0m, in \u001b[0;36mtrain_epoch\u001b[0;34m(model, model_start, config, epoch_idx, optimizer, problem)\u001b[0m\n\u001b[1;32m    108\u001b[0m \u001b[39m#We need to change this to sampling from our decoder on non greedy\u001b[39;00m\n\u001b[1;32m    109\u001b[0m \u001b[39mwith\u001b[39;00m torch\u001b[39m.\u001b[39mno_grad():\n\u001b[0;32m--> 110\u001b[0m     solutions,advantages \u001b[39m=\u001b[39m generate_solutions(\n\u001b[1;32m    111\u001b[0m         \n\u001b[1;32m    112\u001b[0m         model \u001b[39m=\u001b[39;49m model,\n\u001b[1;32m    113\u001b[0m         epoch_size \u001b[39m=\u001b[39;49m config\u001b[39m.\u001b[39;49mepoch_size,\n\u001b[1;32m    114\u001b[0m         config  \u001b[39m=\u001b[39;49m config,\n\u001b[1;32m    115\u001b[0m         random \u001b[39m=\u001b[39;49m \u001b[39mTrue\u001b[39;49;00m,\n\u001b[1;32m    116\u001b[0m         contexts \u001b[39m=\u001b[39;49m contexts,\n\u001b[1;32m    117\u001b[0m         problem \u001b[39m=\u001b[39;49m problem,\n\u001b[1;32m    118\u001b[0m         solution_num \u001b[39m=\u001b[39;49m config\u001b[39m.\u001b[39;49msample_num,   \u001b[39m#Solutions to sample per problem\u001b[39;49;00m\n\u001b[1;32m    119\u001b[0m         epoch_idx \u001b[39m=\u001b[39;49m epoch_idx,\n\u001b[1;32m    120\u001b[0m \n\u001b[1;32m    121\u001b[0m     )\n\u001b[1;32m    123\u001b[0m total_time_generate \u001b[39m=\u001b[39m time\u001b[39m.\u001b[39mtime()  \u001b[39m-\u001b[39mstart\n\u001b[1;32m    127\u001b[0m device \u001b[39m=\u001b[39m solutions\u001b[39m.\u001b[39mdevice\n",
      "File \u001b[0;32m~/Documents/PhD/TVAE-Opt/train_rl.py:325\u001b[0m, in \u001b[0;36mgenerate_solutions\u001b[0;34m(model, epoch_size, config, random, contexts, solution_num, problem, epoch_idx)\u001b[0m\n\u001b[1;32m    321\u001b[0m \u001b[39mfor\u001b[39;00m j \u001b[39min\u001b[39;00m \u001b[39mrange\u001b[39m(solution_num):\n\u001b[1;32m    323\u001b[0m     solution_set \u001b[39m=\u001b[39m \u001b[39mNone\u001b[39;00m\n\u001b[0;32m--> 325\u001b[0m     \u001b[39mfor\u001b[39;00m i \u001b[39min\u001b[39;00m tqdm(\u001b[39mrange\u001b[39m(num_batches)):\n\u001b[1;32m    328\u001b[0m         context_batch \u001b[39m=\u001b[39m contexts[i\u001b[39m*\u001b[39mbatch_size:(i\u001b[39m+\u001b[39m\u001b[39m1\u001b[39m)\u001b[39m*\u001b[39mbatch_size]\n\u001b[1;32m    330\u001b[0m         solution_batch,_ \u001b[39m=\u001b[39m model(\n\u001b[1;32m    331\u001b[0m             solution \u001b[39m=\u001b[39m \u001b[39mNone\u001b[39;00m,\n\u001b[1;32m    332\u001b[0m             greedy \u001b[39m=\u001b[39m \u001b[39mFalse\u001b[39;00m,\n\u001b[0;32m   (...)\u001b[0m\n\u001b[1;32m    335\u001b[0m             \n\u001b[1;32m    336\u001b[0m         )\n",
      "File \u001b[0;32m~/miniconda3/envs/CVAE_env/lib/python3.9/site-packages/tqdm/std.py:1210\u001b[0m, in \u001b[0;36mtqdm.__iter__\u001b[0;34m(self)\u001b[0m\n\u001b[1;32m   1208\u001b[0m \u001b[39mfinally\u001b[39;00m:\n\u001b[1;32m   1209\u001b[0m     \u001b[39mself\u001b[39m\u001b[39m.\u001b[39mn \u001b[39m=\u001b[39m n\n\u001b[0;32m-> 1210\u001b[0m     \u001b[39mself\u001b[39;49m\u001b[39m.\u001b[39;49mclose()\n",
      "File \u001b[0;32m~/miniconda3/envs/CVAE_env/lib/python3.9/site-packages/tqdm/std.py:1316\u001b[0m, in \u001b[0;36mtqdm.close\u001b[0;34m(self)\u001b[0m\n\u001b[1;32m   1313\u001b[0m \u001b[39mif\u001b[39;00m leave:\n\u001b[1;32m   1314\u001b[0m     \u001b[39m# stats for overall rate (no weighted average)\u001b[39;00m\n\u001b[1;32m   1315\u001b[0m     \u001b[39mself\u001b[39m\u001b[39m.\u001b[39m_ema_dt \u001b[39m=\u001b[39m \u001b[39mlambda\u001b[39;00m: \u001b[39mNone\u001b[39;00m\n\u001b[0;32m-> 1316\u001b[0m     \u001b[39mself\u001b[39;49m\u001b[39m.\u001b[39;49mdisplay(pos\u001b[39m=\u001b[39;49m\u001b[39m0\u001b[39;49m)\n\u001b[1;32m   1317\u001b[0m     fp_write(\u001b[39m'\u001b[39m\u001b[39m\\n\u001b[39;00m\u001b[39m'\u001b[39m)\n\u001b[1;32m   1318\u001b[0m \u001b[39melse\u001b[39;00m:\n\u001b[1;32m   1319\u001b[0m     \u001b[39m# clear previous display\u001b[39;00m\n",
      "File \u001b[0;32m~/miniconda3/envs/CVAE_env/lib/python3.9/site-packages/tqdm/std.py:1509\u001b[0m, in \u001b[0;36mtqdm.display\u001b[0;34m(self, msg, pos)\u001b[0m\n\u001b[1;32m   1507\u001b[0m \u001b[39mif\u001b[39;00m pos:\n\u001b[1;32m   1508\u001b[0m     \u001b[39mself\u001b[39m\u001b[39m.\u001b[39mmoveto(pos)\n\u001b[0;32m-> 1509\u001b[0m \u001b[39mself\u001b[39;49m\u001b[39m.\u001b[39;49msp(\u001b[39mself\u001b[39;49m\u001b[39m.\u001b[39;49m\u001b[39m__str__\u001b[39;49m() \u001b[39mif\u001b[39;49;00m msg \u001b[39mis\u001b[39;49;00m \u001b[39mNone\u001b[39;49;00m \u001b[39melse\u001b[39;49;00m msg)\n\u001b[1;32m   1510\u001b[0m \u001b[39mif\u001b[39;00m pos:\n\u001b[1;32m   1511\u001b[0m     \u001b[39mself\u001b[39m\u001b[39m.\u001b[39mmoveto(\u001b[39m-\u001b[39mpos)\n",
      "File \u001b[0;32m~/miniconda3/envs/CVAE_env/lib/python3.9/site-packages/tqdm/std.py:350\u001b[0m, in \u001b[0;36mtqdm.status_printer.<locals>.print_status\u001b[0;34m(s)\u001b[0m\n\u001b[1;32m    348\u001b[0m \u001b[39mdef\u001b[39;00m \u001b[39mprint_status\u001b[39m(s):\n\u001b[1;32m    349\u001b[0m     len_s \u001b[39m=\u001b[39m disp_len(s)\n\u001b[0;32m--> 350\u001b[0m     fp_write(\u001b[39m'\u001b[39;49m\u001b[39m\\r\u001b[39;49;00m\u001b[39m'\u001b[39;49m \u001b[39m+\u001b[39;49m s \u001b[39m+\u001b[39;49m (\u001b[39m'\u001b[39;49m\u001b[39m \u001b[39;49m\u001b[39m'\u001b[39;49m \u001b[39m*\u001b[39;49m \u001b[39mmax\u001b[39;49m(last_len[\u001b[39m0\u001b[39;49m] \u001b[39m-\u001b[39;49m len_s, \u001b[39m0\u001b[39;49m)))\n\u001b[1;32m    351\u001b[0m     last_len[\u001b[39m0\u001b[39m] \u001b[39m=\u001b[39m len_s\n",
      "File \u001b[0;32m~/miniconda3/envs/CVAE_env/lib/python3.9/site-packages/tqdm/std.py:344\u001b[0m, in \u001b[0;36mtqdm.status_printer.<locals>.fp_write\u001b[0;34m(s)\u001b[0m\n\u001b[1;32m    342\u001b[0m \u001b[39mdef\u001b[39;00m \u001b[39mfp_write\u001b[39m(s):\n\u001b[1;32m    343\u001b[0m     fp\u001b[39m.\u001b[39mwrite(_unicode(s))\n\u001b[0;32m--> 344\u001b[0m     fp_flush()\n",
      "File \u001b[0;32m~/miniconda3/envs/CVAE_env/lib/python3.9/site-packages/tqdm/utils.py:145\u001b[0m, in \u001b[0;36mDisableOnWriteError.disable_on_exception.<locals>.inner\u001b[0;34m(*args, **kwargs)\u001b[0m\n\u001b[1;32m    143\u001b[0m \u001b[39mdef\u001b[39;00m \u001b[39minner\u001b[39m(\u001b[39m*\u001b[39margs, \u001b[39m*\u001b[39m\u001b[39m*\u001b[39mkwargs):\n\u001b[1;32m    144\u001b[0m     \u001b[39mtry\u001b[39;00m:\n\u001b[0;32m--> 145\u001b[0m         \u001b[39mreturn\u001b[39;00m func(\u001b[39m*\u001b[39;49margs, \u001b[39m*\u001b[39;49m\u001b[39m*\u001b[39;49mkwargs)\n\u001b[1;32m    146\u001b[0m     \u001b[39mexcept\u001b[39;00m \u001b[39mOSError\u001b[39;00m \u001b[39mas\u001b[39;00m e:\n\u001b[1;32m    147\u001b[0m         \u001b[39mif\u001b[39;00m e\u001b[39m.\u001b[39merrno \u001b[39m!=\u001b[39m \u001b[39m5\u001b[39m:\n",
      "File \u001b[0;32m~/miniconda3/envs/CVAE_env/lib/python3.9/site-packages/ipykernel/iostream.py:497\u001b[0m, in \u001b[0;36mOutStream.flush\u001b[0;34m(self)\u001b[0m\n\u001b[1;32m    495\u001b[0m     \u001b[39mself\u001b[39m\u001b[39m.\u001b[39mpub_thread\u001b[39m.\u001b[39mschedule(evt\u001b[39m.\u001b[39mset)\n\u001b[1;32m    496\u001b[0m     \u001b[39m# and give a timeout to avoid\u001b[39;00m\n\u001b[0;32m--> 497\u001b[0m     \u001b[39mif\u001b[39;00m \u001b[39mnot\u001b[39;00m evt\u001b[39m.\u001b[39;49mwait(\u001b[39mself\u001b[39;49m\u001b[39m.\u001b[39;49mflush_timeout):\n\u001b[1;32m    498\u001b[0m         \u001b[39m# write directly to __stderr__ instead of warning because\u001b[39;00m\n\u001b[1;32m    499\u001b[0m         \u001b[39m# if this is happening sys.stderr may be the problem.\u001b[39;00m\n\u001b[1;32m    500\u001b[0m         \u001b[39mprint\u001b[39m(\u001b[39m\"\u001b[39m\u001b[39mIOStream.flush timed out\u001b[39m\u001b[39m\"\u001b[39m, file\u001b[39m=\u001b[39msys\u001b[39m.\u001b[39m__stderr__)\n\u001b[1;32m    501\u001b[0m \u001b[39melse\u001b[39;00m:\n",
      "File \u001b[0;32m~/miniconda3/envs/CVAE_env/lib/python3.9/threading.py:581\u001b[0m, in \u001b[0;36mEvent.wait\u001b[0;34m(self, timeout)\u001b[0m\n\u001b[1;32m    579\u001b[0m signaled \u001b[39m=\u001b[39m \u001b[39mself\u001b[39m\u001b[39m.\u001b[39m_flag\n\u001b[1;32m    580\u001b[0m \u001b[39mif\u001b[39;00m \u001b[39mnot\u001b[39;00m signaled:\n\u001b[0;32m--> 581\u001b[0m     signaled \u001b[39m=\u001b[39m \u001b[39mself\u001b[39;49m\u001b[39m.\u001b[39;49m_cond\u001b[39m.\u001b[39;49mwait(timeout)\n\u001b[1;32m    582\u001b[0m \u001b[39mreturn\u001b[39;00m signaled\n",
      "File \u001b[0;32m~/miniconda3/envs/CVAE_env/lib/python3.9/threading.py:316\u001b[0m, in \u001b[0;36mCondition.wait\u001b[0;34m(self, timeout)\u001b[0m\n\u001b[1;32m    314\u001b[0m \u001b[39melse\u001b[39;00m:\n\u001b[1;32m    315\u001b[0m     \u001b[39mif\u001b[39;00m timeout \u001b[39m>\u001b[39m \u001b[39m0\u001b[39m:\n\u001b[0;32m--> 316\u001b[0m         gotit \u001b[39m=\u001b[39m waiter\u001b[39m.\u001b[39;49macquire(\u001b[39mTrue\u001b[39;49;00m, timeout)\n\u001b[1;32m    317\u001b[0m     \u001b[39melse\u001b[39;00m:\n\u001b[1;32m    318\u001b[0m         gotit \u001b[39m=\u001b[39m waiter\u001b[39m.\u001b[39macquire(\u001b[39mFalse\u001b[39;00m)\n",
      "\u001b[0;31mKeyboardInterrupt\u001b[0m: "
     ]
    },
    {
     "ename": "",
     "evalue": "",
     "output_type": "error",
     "traceback": [
      "\u001b[1;31mThe Kernel crashed while executing code in the the current cell or a previous cell. Please review the code in the cell(s) to identify a possible cause of the failure. Click <a href='https://aka.ms/vscodeJupyterKernelCrash'>here</a> for more info. View Jupyter <a href='command:jupyter.viewOutput'>log</a> for further details."
     ]
    }
   ],
   "source": [
    "\n",
    "\n",
    "Model = RL_Solver(config,diffusion_steps = config.diffusion_steps,num_var = config.num_var,deg = config.deg).to(config.device)\n",
    "\n",
    "\n",
    "problem = ContextProblem(testing_num = config.evaluation_num ,variation = config.variation,num_var = config.num_var,deg = config.deg)\n",
    "\n",
    "train(Model, config,problem,run_id = run_id)"
   ]
  }
 ],
 "metadata": {
  "kernelspec": {
   "display_name": "CVAE_env",
   "language": "python",
   "name": "python3"
  },
  "language_info": {
   "codemirror_mode": {
    "name": "ipython",
    "version": 3
   },
   "file_extension": ".py",
   "mimetype": "text/x-python",
   "name": "python",
   "nbconvert_exporter": "python",
   "pygments_lexer": "ipython3",
   "version": "3.9.13"
  },
  "orig_nbformat": 4,
  "vscode": {
   "interpreter": {
    "hash": "27e02dc85369733a903742787515facd417f96dea0ebccbb0c1c94899258b880"
   }
  }
 },
 "nbformat": 4,
 "nbformat_minor": 2
}
